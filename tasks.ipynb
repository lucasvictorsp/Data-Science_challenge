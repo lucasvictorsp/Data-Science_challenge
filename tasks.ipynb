{
 "cells": [
  {
   "cell_type": "markdown",
   "metadata": {
    "id": "mTVOQpMfhgLM"
   },
   "source": [
    "## Esté um notebook Colab contendo exercícios de programação em python, numpy e pytorch."
   ]
  },
  {
   "cell_type": "markdown",
   "metadata": {
    "id": "KMoyGt5gXMgK"
   },
   "source": [
    "## Coloque seu nome"
   ]
  },
  {
   "cell_type": "code",
   "execution_count": 2,
   "metadata": {
    "colab": {
     "base_uri": "https://localhost:8080/"
    },
    "executionInfo": {
     "elapsed": 577,
     "status": "ok",
     "timestamp": 1621959423175,
     "user": {
      "displayName": "Lucas Pereira",
      "photoUrl": "https://lh3.googleusercontent.com/a-/AOh14GiqlJPZpM7Xb1EwJsInfKE9pE-UlR5kdaE8yArCCw=s64",
      "userId": "06590471946997149737"
     },
     "user_tz": 180
    },
    "id": "iBHbXcibXPRe",
    "outputId": "17282faf-2923-4bc1-dde4-c1703739bb05"
   },
   "outputs": [
    {
     "name": "stdout",
     "output_type": "stream",
     "text": [
      "Meu nome é: Lucas Victor Silva Pereira\n"
     ]
    }
   ],
   "source": [
    "print('Meu nome é: Lucas Victor Silva Pereira')"
   ]
  },
  {
   "cell_type": "markdown",
   "metadata": {
    "id": "e9S5acRbm1Zr"
   },
   "source": [
    "# Parte 1:\n",
    "\n",
    "## Exercícios de Processamento de Dados\n",
    "\n",
    "Nesta parte pode-se usar as bibliotecas nativas do python como a `collections`, `re` e/ou `random`. Também pode-se usar o NumPy."
   ]
  },
  {
   "cell_type": "markdown",
   "metadata": {
    "id": "kxS5h1V8nDn6"
   },
   "source": [
    "## Exercício 1\n",
    "Crie um dicionário com os `k` itens mais frequentes de uma lista.\n",
    "\n",
    "Por exemplo, dada a lista de itens `L=['a', 'a', 'd', 'b', 'd', 'c', 'e', 'a', 'b', 'e', 'e', 'a']` e `k=2`, o resultado deve ser um dicionário cuja chave é o item e o valor é a sua frequência: {'a': 4, 'e': 3}"
   ]
  },
  {
   "cell_type": "code",
   "execution_count": 3,
   "metadata": {
    "executionInfo": {
     "elapsed": 323,
     "status": "ok",
     "timestamp": 1621959464490,
     "user": {
      "displayName": "Lucas Pereira",
      "photoUrl": "https://lh3.googleusercontent.com/a-/AOh14GiqlJPZpM7Xb1EwJsInfKE9pE-UlR5kdaE8yArCCw=s64",
      "userId": "06590471946997149737"
     },
     "user_tz": 180
    },
    "id": "gT08b5Z_nC-j"
   },
   "outputs": [],
   "source": [
    "def top_k(L, k):\n",
    "    # Escreva seu código aqui.\n",
    "    dicAux = {}\n",
    "    for i in L:\n",
    "        if i in dicAux:\n",
    "            dicAux[i] += 1\n",
    "        else:\n",
    "            dicAux[i] = 1\n",
    "    dic = {}\n",
    "    cont = 0\n",
    "    for i in sorted(dicAux, key = dicAux.get, reverse=True):\n",
    "        if cont == k:\n",
    "            break\n",
    "        else:\n",
    "            cont += 1\n",
    "            dic[i] = dicAux[i]\n",
    "    return dic"
   ]
  },
  {
   "cell_type": "markdown",
   "metadata": {
    "id": "KLD_e3C9p4xO"
   },
   "source": [
    "Mostre que sua implementação está correta usando uma entrada com poucos itens:"
   ]
  },
  {
   "cell_type": "code",
   "execution_count": 4,
   "metadata": {
    "colab": {
     "base_uri": "https://localhost:8080/"
    },
    "executionInfo": {
     "elapsed": 344,
     "status": "ok",
     "timestamp": 1621959468006,
     "user": {
      "displayName": "Lucas Pereira",
      "photoUrl": "https://lh3.googleusercontent.com/a-/AOh14GiqlJPZpM7Xb1EwJsInfKE9pE-UlR5kdaE8yArCCw=s64",
      "userId": "06590471946997149737"
     },
     "user_tz": 180
    },
    "id": "iMW9NiBgnkvA",
    "outputId": "75fcbd5e-aab5-41fa-e22f-00006437c6b5"
   },
   "outputs": [
    {
     "name": "stdout",
     "output_type": "stream",
     "text": [
      "{'a': 4, 'd': 3, 'e': 3}\n"
     ]
    }
   ],
   "source": [
    "L = ['f', 'a', 'a', 'd', 'b', 'd', 'c', 'e', 'a', 'b', 'e', 'e', 'a', 'd']\n",
    "k = 3\n",
    "resultado = top_k(L=L, k=k)\n",
    "print(resultado)"
   ]
  },
  {
   "cell_type": "markdown",
   "metadata": {
    "id": "wBeqZScQqJ0a"
   },
   "source": [
    "Mostre que sua implementação é eficiente usando uma entrada com 10M de itens:"
   ]
  },
  {
   "cell_type": "code",
   "execution_count": 5,
   "metadata": {
    "executionInfo": {
     "elapsed": 2704,
     "status": "ok",
     "timestamp": 1621959473071,
     "user": {
      "displayName": "Lucas Pereira",
      "photoUrl": "https://lh3.googleusercontent.com/a-/AOh14GiqlJPZpM7Xb1EwJsInfKE9pE-UlR5kdaE8yArCCw=s64",
      "userId": "06590471946997149737"
     },
     "user_tz": 180
    },
    "id": "O_lhcm4ko8bY"
   },
   "outputs": [],
   "source": [
    "import random\n",
    "L = random.choices('abcdefghijklmnopqrstuvwxyz', k=10_000_000)\n",
    "k = 10000"
   ]
  },
  {
   "cell_type": "code",
   "execution_count": 6,
   "metadata": {
    "colab": {
     "base_uri": "https://localhost:8080/"
    },
    "executionInfo": {
     "elapsed": 8093,
     "status": "ok",
     "timestamp": 1621959482962,
     "user": {
      "displayName": "Lucas Pereira",
      "photoUrl": "https://lh3.googleusercontent.com/a-/AOh14GiqlJPZpM7Xb1EwJsInfKE9pE-UlR5kdaE8yArCCw=s64",
      "userId": "06590471946997149737"
     },
     "user_tz": 180
    },
    "id": "L9U-Bgs2o-f_",
    "outputId": "db5ba509-ba87-46d6-8113-cc1f1bea9d14"
   },
   "outputs": [
    {
     "name": "stdout",
     "output_type": "stream",
     "text": [
      "1.15 s ± 32.2 ms per loop (mean ± std. dev. of 7 runs, 1 loop each)\n"
     ]
    }
   ],
   "source": [
    "%%timeit\n",
    "resultado = top_k(L=L, k=k)"
   ]
  },
  {
   "cell_type": "markdown",
   "metadata": {
    "id": "oJHDaOz_tK38"
   },
   "source": [
    "## Exercício 2\n",
    "\n",
    "Em processamento de linguagem natural, é comum convertemos as palavras de um texto para uma lista de identificadores dessas palavras. Dado o dicionário `V` abaixo onde as chaves são palavras e os valores são seus respectivos identificadores, converta o texto `D` para uma lista de identificadores.\n",
    "\n",
    "Palavras que não existem no dicionário deverão ser convertidas para o identificador do token `unknown`.\n",
    "\n",
    "O código deve ser insensível a maiúsculas (case-insensitive).\n",
    "\n",
    "Se atente que pontuações (vírgulas, ponto final, etc) também são consideradas palavras."
   ]
  },
  {
   "cell_type": "code",
   "execution_count": 8,
   "metadata": {
    "executionInfo": {
     "elapsed": 330,
     "status": "ok",
     "timestamp": 1621959514077,
     "user": {
      "displayName": "Lucas Pereira",
      "photoUrl": "https://lh3.googleusercontent.com/a-/AOh14GiqlJPZpM7Xb1EwJsInfKE9pE-UlR5kdaE8yArCCw=s64",
      "userId": "06590471946997149737"
     },
     "user_tz": 180
    },
    "id": "rVzv89trtTPc"
   },
   "outputs": [],
   "source": [
    "import re\n",
    "\n",
    "def tokens_to_ids(text, vocabulary):\n",
    "    # Escreva seu código aqui.\n",
    "    text = text.lower()\n",
    "    #text = re.sub('([.,!?();:])', r' \\1', text)\n",
    "    text = re.sub('([^\\w\\s])', r' \\1', text)\n",
    "    #text = re.sub(r'\\s{2,}', ' ', text)\n",
    "    #text = re.sub(r\"\\s+$\", \"\", text)\n",
    "    textL = []\n",
    "    for i in re.split(r\"\\s+\", text):\n",
    "        if i in vocabulary:\n",
    "            textL.append(vocabulary[i])\n",
    "        else:\n",
    "            textL.append(vocabulary['unknown'])\n",
    "    return textL"
   ]
  },
  {
   "cell_type": "markdown",
   "metadata": {
    "id": "aCGZeiqkY-sm"
   },
   "source": [
    "Mostre que sua implementação esta correta com um exemplo pequeno:\n",
    "\n",
    "---\n",
    "\n"
   ]
  },
  {
   "cell_type": "code",
   "execution_count": 9,
   "metadata": {
    "colab": {
     "base_uri": "https://localhost:8080/"
    },
    "executionInfo": {
     "elapsed": 8,
     "status": "ok",
     "timestamp": 1621959516924,
     "user": {
      "displayName": "Lucas Pereira",
      "photoUrl": "https://lh3.googleusercontent.com/a-/AOh14GiqlJPZpM7Xb1EwJsInfKE9pE-UlR5kdaE8yArCCw=s64",
      "userId": "06590471946997149737"
     },
     "user_tz": 180
    },
    "id": "iApR1h7gY98E",
    "outputId": "46e95fa6-9e7a-42b2-9ce4-f3ca8829f974"
   },
   "outputs": [
    {
     "name": "stdout",
     "output_type": "stream",
     "text": [
      "[1, 3, 2, 4, -1, 5]\n"
     ]
    }
   ],
   "source": [
    "V = {'eu': 1, 'de': 2, 'gosto': 3, 'comer': 4, '.': 5, 'unknown': -1}\n",
    "D = 'Eu gosto de comer pizza.'\n",
    "\n",
    "print(tokens_to_ids(D, V))"
   ]
  },
  {
   "cell_type": "markdown",
   "metadata": {
    "id": "dWtTMxlXZN25"
   },
   "source": [
    "Mostre que sua implementação é eficiente com um exemplo grande:"
   ]
  },
  {
   "cell_type": "code",
   "execution_count": 10,
   "metadata": {
    "executionInfo": {
     "elapsed": 321,
     "status": "ok",
     "timestamp": 1621959520034,
     "user": {
      "displayName": "Lucas Pereira",
      "photoUrl": "https://lh3.googleusercontent.com/a-/AOh14GiqlJPZpM7Xb1EwJsInfKE9pE-UlR5kdaE8yArCCw=s64",
      "userId": "06590471946997149737"
     },
     "user_tz": 180
    },
    "id": "pxT_g-ZxZUsX"
   },
   "outputs": [],
   "source": [
    "V = {'eu': 1, 'de': 2, 'gosto': 3, 'comer': 4, '.': 5, 'unknown': -1}\n",
    "D = ' '.join(1_000_000 * ['Eu gosto de comer pizza.'])"
   ]
  },
  {
   "cell_type": "code",
   "execution_count": 11,
   "metadata": {
    "colab": {
     "base_uri": "https://localhost:8080/"
    },
    "executionInfo": {
     "elapsed": 21305,
     "status": "ok",
     "timestamp": 1621959543283,
     "user": {
      "displayName": "Lucas Pereira",
      "photoUrl": "https://lh3.googleusercontent.com/a-/AOh14GiqlJPZpM7Xb1EwJsInfKE9pE-UlR5kdaE8yArCCw=s64",
      "userId": "06590471946997149737"
     },
     "user_tz": 180
    },
    "id": "kp1nataGZU-V",
    "outputId": "bf57ee14-be5a-4c30-cd9b-7e92739dea22"
   },
   "outputs": [
    {
     "name": "stdout",
     "output_type": "stream",
     "text": [
      "1 loop, best of 5: 3.45 s per loop\n"
     ]
    }
   ],
   "source": [
    "%%timeit\n",
    "resultado = tokens_to_ids(D, V)"
   ]
  },
  {
   "cell_type": "markdown",
   "metadata": {
    "id": "XRfaKfXwRXn_"
   },
   "source": [
    "## Exercício 3\n",
    "\n",
    "Em aprendizado profundo é comum termos que lidar com arquivos muito grandes.\n",
    "\n",
    "Dado um arquivo de texto onde cada item é separado por `\\n`, escreva um programa que amostre `k` itens desse arquivo aleatoriamente.\n",
    "\n",
    "Nota 1: Assuma amostragem de uma distribuição uniforme, ou seja, todos os itens tem a mesma probablidade de amostragem.\n",
    "\n",
    "Nota 2: Assuma que o arquivo não cabe em memória.\n",
    "\n",
    "Nota 3: Utilize apenas bibliotecas nativas do python."
   ]
  },
  {
   "cell_type": "code",
   "execution_count": 12,
   "metadata": {
    "executionInfo": {
     "elapsed": 369,
     "status": "ok",
     "timestamp": 1621959571440,
     "user": {
      "displayName": "Lucas Pereira",
      "photoUrl": "https://lh3.googleusercontent.com/a-/AOh14GiqlJPZpM7Xb1EwJsInfKE9pE-UlR5kdaE8yArCCw=s64",
      "userId": "06590471946997149737"
     },
     "user_tz": 180
    },
    "id": "2PsadE9SRG_9"
   },
   "outputs": [],
   "source": [
    "#from itertools import zip_longest\n",
    "from random import sample\n",
    "\n",
    "def sample(path: str, k: int):\n",
    "    # Escreva seu código aqui.\n",
    "    with open(path) as file: #file = open(path, \"r\")\n",
    "        #nonempty_lines = [line.strip(\"\\n\") for line in file if line != \"\\n\"]\n",
    "        #line_count = len(nonempty_lines)\n",
    "        line_count = 0\n",
    "        #for (line1, line2, line3, line4, line5) in zip_longest(*[file]*5):\n",
    "        #    line_count += 5\n",
    "        for line in file:\n",
    "            line_count += 1\n",
    "        file.seek(0)\n",
    "        listLine = random.sample(range(0, line_count), k)\n",
    "        listLine.sort()\n",
    "        line_count = 0\n",
    "        contK = 0\n",
    "        lines = []\n",
    "        for line in file:\n",
    "            if listLine[contK] == line_count:\n",
    "                contK += 1\n",
    "                lines.append(line)\n",
    "                if contK == k:\n",
    "                    break\n",
    "            line_count += 1\n",
    "\n",
    "    return lines"
   ]
  },
  {
   "cell_type": "markdown",
   "metadata": {
    "id": "ycEnlFWxSt0i"
   },
   "source": [
    "Mostre que sua implementação está correta com um exemplo pequeno:"
   ]
  },
  {
   "cell_type": "code",
   "execution_count": 13,
   "metadata": {
    "colab": {
     "base_uri": "https://localhost:8080/"
    },
    "executionInfo": {
     "elapsed": 324,
     "status": "ok",
     "timestamp": 1621959573792,
     "user": {
      "displayName": "Lucas Pereira",
      "photoUrl": "https://lh3.googleusercontent.com/a-/AOh14GiqlJPZpM7Xb1EwJsInfKE9pE-UlR5kdaE8yArCCw=s64",
      "userId": "06590471946997149737"
     },
     "user_tz": 180
    },
    "id": "vyLJ1e2ZSzC9",
    "outputId": "764ec99a-dc9a-4415-b78d-041a4aed6a36"
   },
   "outputs": [
    {
     "name": "stdout",
     "output_type": "stream",
     "text": [
      "['line 0\\n', 'line 2\\n', 'line 5\\n', 'line 7\\n', 'line 30\\n', 'line 31\\n', 'line 47\\n', 'line 56\\n', 'line 60\\n', 'line 67\\n']\n",
      "True\n"
     ]
    }
   ],
   "source": [
    "filename = 'small.txt'\n",
    "total_size = 100\n",
    "n_samples = 10\n",
    "\n",
    "with open(filename, 'w') as fout:\n",
    "    fout.write('\\n'.join(f'line {i}' for i in range(total_size)))\n",
    "\n",
    "samples = sample(path=filename, k=n_samples)\n",
    "print(samples)\n",
    "print(len(samples) == n_samples)"
   ]
  },
  {
   "cell_type": "markdown",
   "metadata": {
    "id": "2r4FMiMj12Xg"
   },
   "source": [
    "Mostre que sua implementação é eficiente com um exemplo grande:"
   ]
  },
  {
   "cell_type": "code",
   "execution_count": 14,
   "metadata": {
    "executionInfo": {
     "elapsed": 332,
     "status": "ok",
     "timestamp": 1621959576872,
     "user": {
      "displayName": "Lucas Pereira",
      "photoUrl": "https://lh3.googleusercontent.com/a-/AOh14GiqlJPZpM7Xb1EwJsInfKE9pE-UlR5kdaE8yArCCw=s64",
      "userId": "06590471946997149737"
     },
     "user_tz": 180
    },
    "id": "PUwnNMGg18Ty"
   },
   "outputs": [],
   "source": [
    "filename = 'large.txt'\n",
    "total_size = 1_000_000\n",
    "n_samples = 10000\n",
    "\n",
    "with open(filename, 'w') as fout:\n",
    "    fout.write('\\n'.join(f'line {i}' for i in range(total_size)))"
   ]
  },
  {
   "cell_type": "code",
   "execution_count": 15,
   "metadata": {
    "colab": {
     "base_uri": "https://localhost:8080/"
    },
    "executionInfo": {
     "elapsed": 3596,
     "status": "ok",
     "timestamp": 1621959583611,
     "user": {
      "displayName": "Lucas Pereira",
      "photoUrl": "https://lh3.googleusercontent.com/a-/AOh14GiqlJPZpM7Xb1EwJsInfKE9pE-UlR5kdaE8yArCCw=s64",
      "userId": "06590471946997149737"
     },
     "user_tz": 180
    },
    "id": "iA9sAZmo0UDN",
    "outputId": "493de530-9239-49cf-d22f-ca340456406f"
   },
   "outputs": [
    {
     "name": "stdout",
     "output_type": "stream",
     "text": [
      "1 loop, best of 5: 245 ms per loop\n"
     ]
    }
   ],
   "source": [
    "%%timeit\n",
    "samples = sample(path=filename, k=n_samples)\n",
    "assert len(samples) == n_samples"
   ]
  },
  {
   "cell_type": "markdown",
   "metadata": {
    "id": "udS0Ns4etoJs"
   },
   "source": [
    "# Parte 2:\n",
    "\n",
    "## Exercícios de Numpy\n",
    "\n",
    "Nesta parte deve-se usar apenas a biblioteca NumPy. Aqui não se pode usar o PyTorch."
   ]
  },
  {
   "cell_type": "markdown",
   "metadata": {
    "id": "RcMz3Vzjt144"
   },
   "source": [
    "## Exercício 1\n",
    "\n",
    "Quantos operações de ponto flutuante (flops) de soma e de multiplicação tem a multiplicação matricial $AB$, sendo que a matriz $A$ tem tamanho $m \\times n$ e a matriz $B$ tem tamanho $n \\times p$?"
   ]
  },
  {
   "cell_type": "markdown",
   "metadata": {
    "id": "4gNXj45RJqUm"
   },
   "source": [
    "Resposta:\n",
    "- número de somas: *m$\\times$p$\\times$(n - 1)*\n",
    "- número de multiplicações: *m$\\times$p$\\times$n*\n",
    "\n",
    "**Justificativa**:\n",
    "\n",
    "Para calcular cada novo elementa da matriz $[AB]_{m\\times p}$ é necessário pegar uma linha da matriz $A$ e uma coluna da matriz $B$ e multiplicar par a par cada um dos elementos e depois somá-los. A matriz $A$ possuim *n* elementor por linha e a matriz $B$, *n* elementos por coluna. Portanto, cada novo elemento requer *n* mutiplicações e *(n - 1)* operações de soma. Como a matriz $A$ possui *m* linhas e a matriz $B$ *p* colunas, o número de **multiplicações** é igual a *m$\\times$p$\\times$n* e o de **soma** é igual a *m$\\times$p$\\times$(n - 1)*."
   ]
  },
  {
   "cell_type": "markdown",
   "metadata": {
    "id": "2iI7udBFeDlP"
   },
   "source": [
    "## Exercício 2\n",
    "\n",
    "Em programação matricial, não se faz o loop em cada elemento da matriz,\n",
    "mas sim, utiliza-se operações matriciais.\n",
    "\n",
    "Dada a matriz `A` abaixo, calcule a média dos valores de cada linha sem utilizar laços explícitos.\n",
    "\n",
    "Utilize apenas a biblioteca numpy."
   ]
  },
  {
   "cell_type": "code",
   "execution_count": 16,
   "metadata": {
    "executionInfo": {
     "elapsed": 319,
     "status": "ok",
     "timestamp": 1621959629675,
     "user": {
      "displayName": "Lucas Pereira",
      "photoUrl": "https://lh3.googleusercontent.com/a-/AOh14GiqlJPZpM7Xb1EwJsInfKE9pE-UlR5kdaE8yArCCw=s64",
      "userId": "06590471946997149737"
     },
     "user_tz": 180
    },
    "id": "cjrXf18N5KrK"
   },
   "outputs": [],
   "source": [
    "import numpy as np"
   ]
  },
  {
   "cell_type": "code",
   "execution_count": 17,
   "metadata": {
    "colab": {
     "base_uri": "https://localhost:8080/"
    },
    "executionInfo": {
     "elapsed": 6,
     "status": "ok",
     "timestamp": 1621959631452,
     "user": {
      "displayName": "Lucas Pereira",
      "photoUrl": "https://lh3.googleusercontent.com/a-/AOh14GiqlJPZpM7Xb1EwJsInfKE9pE-UlR5kdaE8yArCCw=s64",
      "userId": "06590471946997149737"
     },
     "user_tz": 180
    },
    "id": "-fqxgNBW27Z0",
    "outputId": "eb3e899e-b8c5-4128-bfa6-0792c831b0c3"
   },
   "outputs": [
    {
     "name": "stdout",
     "output_type": "stream",
     "text": [
      "[[ 0  1  2  3  4  5]\n",
      " [ 6  7  8  9 10 11]\n",
      " [12 13 14 15 16 17]\n",
      " [18 19 20 21 22 23]]\n"
     ]
    }
   ],
   "source": [
    "A = np.arange(24).reshape(4, 6)\n",
    "print(A)"
   ]
  },
  {
   "cell_type": "code",
   "execution_count": 18,
   "metadata": {
    "colab": {
     "base_uri": "https://localhost:8080/"
    },
    "executionInfo": {
     "elapsed": 325,
     "status": "ok",
     "timestamp": 1621959644256,
     "user": {
      "displayName": "Lucas Pereira",
      "photoUrl": "https://lh3.googleusercontent.com/a-/AOh14GiqlJPZpM7Xb1EwJsInfKE9pE-UlR5kdaE8yArCCw=s64",
      "userId": "06590471946997149737"
     },
     "user_tz": 180
    },
    "id": "J1EmKFrT5g7B",
    "outputId": "6dc7369f-065b-4b2d-96ed-338cd123bb53"
   },
   "outputs": [
    {
     "name": "stdout",
     "output_type": "stream",
     "text": [
      "Média das linhas da matriz A: [ 2.5  8.5 14.5 20.5]\n"
     ]
    }
   ],
   "source": [
    "# Escreva sua solução aqui.\n",
    "#media = np.sum(A, axis=1) / A.shape[1]\n",
    "media = np.average(A, axis=1)\n",
    "print(f'Média das linhas da matriz A: {media}')"
   ]
  },
  {
   "cell_type": "markdown",
   "metadata": {
    "id": "JtgSAAKjUfcO"
   },
   "source": [
    "## Exercício 3\n",
    "\n",
    "Seja a matriz $C$ que é a normalização da matriz $A$:\n",
    "$$ C(i,j) = \\frac{A(i,j) - A_{min}}{A_{max} - A_{min}} $$\n",
    "\n",
    "Normalizar a matriz `A` do exercício acima de forma que seus valores fiquem entre 0 e 1."
   ]
  },
  {
   "cell_type": "code",
   "execution_count": 19,
   "metadata": {
    "ExecuteTime": {
     "end_time": "2019-12-11T00:00:34.072719Z",
     "start_time": "2019-12-11T00:00:34.036017Z"
    },
    "colab": {
     "base_uri": "https://localhost:8080/"
    },
    "executionInfo": {
     "elapsed": 671,
     "status": "ok",
     "timestamp": 1621959660483,
     "user": {
      "displayName": "Lucas Pereira",
      "photoUrl": "https://lh3.googleusercontent.com/a-/AOh14GiqlJPZpM7Xb1EwJsInfKE9pE-UlR5kdaE8yArCCw=s64",
      "userId": "06590471946997149737"
     },
     "user_tz": 180
    },
    "id": "_pDhb2-0eDlS",
    "outputId": "f6479112-8500-48ef-81ec-cdc435c07802"
   },
   "outputs": [
    {
     "name": "stdout",
     "output_type": "stream",
     "text": [
      "[[0.         0.04347826 0.08695652 0.13043478 0.17391304 0.2173913 ]\n",
      " [0.26086957 0.30434783 0.34782609 0.39130435 0.43478261 0.47826087]\n",
      " [0.52173913 0.56521739 0.60869565 0.65217391 0.69565217 0.73913043]\n",
      " [0.7826087  0.82608696 0.86956522 0.91304348 0.95652174 1.        ]]\n"
     ]
    }
   ],
   "source": [
    "# Escreva sua solução aqui.\n",
    "resultado = (A - A.min()) / (A.max() - A.min())\n",
    "print(resultado) #print(np.round(resultado, 2))"
   ]
  },
  {
   "cell_type": "markdown",
   "metadata": {
    "id": "GF_P_GARU62m"
   },
   "source": [
    "## Exercício 4\n",
    "\n",
    "Modificar o exercício anterior de forma que os valores de cada *coluna* da matriz `A` sejam normalizados entre 0 e 1 independentemente dos valores das outras colunas.\n"
   ]
  },
  {
   "cell_type": "code",
   "execution_count": 20,
   "metadata": {
    "colab": {
     "base_uri": "https://localhost:8080/"
    },
    "executionInfo": {
     "elapsed": 314,
     "status": "ok",
     "timestamp": 1621959669928,
     "user": {
      "displayName": "Lucas Pereira",
      "photoUrl": "https://lh3.googleusercontent.com/a-/AOh14GiqlJPZpM7Xb1EwJsInfKE9pE-UlR5kdaE8yArCCw=s64",
      "userId": "06590471946997149737"
     },
     "user_tz": 180
    },
    "id": "6NgVzFOYeDla",
    "outputId": "53dc750c-f3e8-40ae-967c-0de4cb3f4b4b"
   },
   "outputs": [
    {
     "name": "stdout",
     "output_type": "stream",
     "text": [
      "[[0.         0.         0.         0.         0.         0.        ]\n",
      " [0.33333333 0.33333333 0.33333333 0.33333333 0.33333333 0.33333333]\n",
      " [0.66666667 0.66666667 0.66666667 0.66666667 0.66666667 0.66666667]\n",
      " [1.         1.         1.         1.         1.         1.        ]]\n"
     ]
    }
   ],
   "source": [
    "# Escreva sua solução aqui.\n",
    "resultado = (A - A.min(axis=0)) / (A.max(axis=0) - A.min(axis=0))\n",
    "print(resultado)"
   ]
  },
  {
   "cell_type": "markdown",
   "metadata": {
    "id": "cbXIXsDIUmtp"
   },
   "source": [
    "## Exercício 5\n",
    "\n",
    "Modificar o exercício anterior de forma que os valores de cada *linha* da matriz `A` sejam normalizados entre 0 e 1 independentemente dos valores das outras linhas. A solução deve funcionar para qualquer tamanho de matriz.\n"
   ]
  },
  {
   "cell_type": "code",
   "execution_count": 21,
   "metadata": {
    "ExecuteTime": {
     "end_time": "2019-12-10T17:56:40.413601Z",
     "start_time": "2019-12-10T17:56:40.405056Z"
    },
    "colab": {
     "base_uri": "https://localhost:8080/"
    },
    "executionInfo": {
     "elapsed": 336,
     "status": "ok",
     "timestamp": 1621959679609,
     "user": {
      "displayName": "Lucas Pereira",
      "photoUrl": "https://lh3.googleusercontent.com/a-/AOh14GiqlJPZpM7Xb1EwJsInfKE9pE-UlR5kdaE8yArCCw=s64",
      "userId": "06590471946997149737"
     },
     "user_tz": 180
    },
    "id": "i-5Hv8-heDlW",
    "outputId": "764dbac8-81e1-4356-c5c2-f780eccef43d"
   },
   "outputs": [
    {
     "name": "stdout",
     "output_type": "stream",
     "text": [
      "[[0.  0.2 0.4 0.6 0.8 1. ]\n",
      " [0.  0.2 0.4 0.6 0.8 1. ]\n",
      " [0.  0.2 0.4 0.6 0.8 1. ]\n",
      " [0.  0.2 0.4 0.6 0.8 1. ]]\n"
     ]
    }
   ],
   "source": [
    "# Escreva sua solução aqui.\n",
    "resultado = ((A.T - A.min(axis=1)) / (A.max(axis=1) - A.min(axis=1))).T\n",
    "print(resultado)"
   ]
  },
  {
   "cell_type": "markdown",
   "metadata": {
    "id": "QKnLAyL7zgpa"
   },
   "source": [
    "## Exercício 6\n",
    "\n",
    "A [função softmax](https://en.wikipedia.org/wiki/Softmax_function) é bastante usada em aprendizado de máquina para converter uma lista de números para uma distribuição de probabilidade, isto é, os números ficarão normalizados entre zero e um e sua soma será igual à um.\n",
    "\n",
    "Implemente a função softmax com suporte para batches, ou seja, o softmax deve ser aplicado a cada linha da matriz. Deve-se usar apenas a biblioteca numpy. Se atente que a exponenciação gera estouro de representação quando os números da entrada são muito grandes. Tente corrigir isto."
   ]
  },
  {
   "cell_type": "code",
   "execution_count": 22,
   "metadata": {
    "executionInfo": {
     "elapsed": 461,
     "status": "ok",
     "timestamp": 1621959694423,
     "user": {
      "displayName": "Lucas Pereira",
      "photoUrl": "https://lh3.googleusercontent.com/a-/AOh14GiqlJPZpM7Xb1EwJsInfKE9pE-UlR5kdaE8yArCCw=s64",
      "userId": "06590471946997149737"
     },
     "user_tz": 180
    },
    "id": "lA5W9vxNEmOj"
   },
   "outputs": [],
   "source": [
    "import numpy as np\n",
    "\n",
    "\n",
    "def softmax(A):\n",
    "    '''\n",
    "    Aplica a função de softmax à matriz `A`.\n",
    "\n",
    "    Entrada:\n",
    "      `A` é uma matriz M x N, onde M é o número de exemplos a serem processados\n",
    "      independentemente e N é o tamanho de cada exemplo.\n",
    "    \n",
    "    Saída:\n",
    "      Uma matriz M x N, onde a soma de cada linha é igual a um.\n",
    "    '''\n",
    "    # Escreva sua solução aqui.\n",
    "    A = np.exp(A - A.max(axis=1).reshape(-1, 1))\n",
    "    return A / A.sum(axis=1).reshape(-1, 1)"
   ]
  },
  {
   "cell_type": "markdown",
   "metadata": {
    "id": "gpxlbh4ND54q"
   },
   "source": [
    "Mostre que sua implementação está correta usando uma matriz pequena como entrada:"
   ]
  },
  {
   "cell_type": "code",
   "execution_count": 23,
   "metadata": {
    "colab": {
     "base_uri": "https://localhost:8080/"
    },
    "executionInfo": {
     "elapsed": 10,
     "status": "ok",
     "timestamp": 1621959697152,
     "user": {
      "displayName": "Lucas Pereira",
      "photoUrl": "https://lh3.googleusercontent.com/a-/AOh14GiqlJPZpM7Xb1EwJsInfKE9pE-UlR5kdaE8yArCCw=s64",
      "userId": "06590471946997149737"
     },
     "user_tz": 180
    },
    "id": "L6EZ5ZD7HFao",
    "outputId": "acfb38e8-4f98-4025-f272-bba3284ac862"
   },
   "outputs": [
    {
     "data": {
      "text/plain": [
       "array([[0.        , 0.        , 1.        ],\n",
       "       [0.04861082, 0.35918811, 0.59220107]])"
      ]
     },
     "execution_count": 23,
     "metadata": {
      "tags": []
     },
     "output_type": "execute_result"
    }
   ],
   "source": [
    "A = np.array([[0.5, -1, 1000],\n",
    "              [-2,   0, 0.5]])\n",
    "softmax(A)"
   ]
  },
  {
   "cell_type": "markdown",
   "metadata": {
    "id": "9j2uXmKH8HF4"
   },
   "source": [
    "Rode o código a seguir para verificar se sua implementação do softmax está correta. \n",
    "- A soma de cada linha de A deve ser 1;\n",
    "- Os valores devem estar entre 0 e 1"
   ]
  },
  {
   "cell_type": "code",
   "execution_count": 24,
   "metadata": {
    "colab": {
     "base_uri": "https://localhost:8080/"
    },
    "executionInfo": {
     "elapsed": 5,
     "status": "ok",
     "timestamp": 1621959700171,
     "user": {
      "displayName": "Lucas Pereira",
      "photoUrl": "https://lh3.googleusercontent.com/a-/AOh14GiqlJPZpM7Xb1EwJsInfKE9pE-UlR5kdaE8yArCCw=s64",
      "userId": "06590471946997149737"
     },
     "user_tz": 180
    },
    "id": "r-sN4STk7qyN",
    "outputId": "556e9827-85b5-4d71-b099-6c675424f4ff"
   },
   "outputs": [
    {
     "data": {
      "text/plain": [
       "True"
      ]
     },
     "execution_count": 24,
     "metadata": {
      "tags": []
     },
     "output_type": "execute_result"
    }
   ],
   "source": [
    "np.allclose(softmax(A).sum(axis=1), 1) and softmax(A).min() >= 0 and softmax(A).max() <= 1"
   ]
  },
  {
   "cell_type": "markdown",
   "metadata": {
    "id": "B5_ZRWRfCZtI"
   },
   "source": [
    "Mostre que sua implementação é eficiente usando uma matriz grande como entrada:"
   ]
  },
  {
   "cell_type": "code",
   "execution_count": 25,
   "metadata": {
    "executionInfo": {
     "elapsed": 342,
     "status": "ok",
     "timestamp": 1621959702622,
     "user": {
      "displayName": "Lucas Pereira",
      "photoUrl": "https://lh3.googleusercontent.com/a-/AOh14GiqlJPZpM7Xb1EwJsInfKE9pE-UlR5kdaE8yArCCw=s64",
      "userId": "06590471946997149737"
     },
     "user_tz": 180
    },
    "id": "bhUeyrGaJ3J2"
   },
   "outputs": [],
   "source": [
    "A = np.random.uniform(low=-10, high=10, size=(128, 100_000))"
   ]
  },
  {
   "cell_type": "code",
   "execution_count": 26,
   "metadata": {
    "colab": {
     "base_uri": "https://localhost:8080/"
    },
    "executionInfo": {
     "elapsed": 1415,
     "status": "ok",
     "timestamp": 1621959706383,
     "user": {
      "displayName": "Lucas Pereira",
      "photoUrl": "https://lh3.googleusercontent.com/a-/AOh14GiqlJPZpM7Xb1EwJsInfKE9pE-UlR5kdaE8yArCCw=s64",
      "userId": "06590471946997149737"
     },
     "user_tz": 180
    },
    "id": "jaa-C8XkKJin",
    "outputId": "f5994e85-1966-4c93-f964-e2e9a3f8f343"
   },
   "outputs": [
    {
     "name": "stdout",
     "output_type": "stream",
     "text": [
      "1 loop, best of 5: 237 ms per loop\n"
     ]
    }
   ],
   "source": [
    "%%timeit\n",
    "softmax(A)"
   ]
  },
  {
   "cell_type": "code",
   "execution_count": 27,
   "metadata": {
    "colab": {
     "base_uri": "https://localhost:8080/"
    },
    "executionInfo": {
     "elapsed": 325,
     "status": "ok",
     "timestamp": 1621959708404,
     "user": {
      "displayName": "Lucas Pereira",
      "photoUrl": "https://lh3.googleusercontent.com/a-/AOh14GiqlJPZpM7Xb1EwJsInfKE9pE-UlR5kdaE8yArCCw=s64",
      "userId": "06590471946997149737"
     },
     "user_tz": 180
    },
    "id": "ESw1Aw5f7ltp",
    "outputId": "a246c162-b394-465b-ac17-ab0a3133f872"
   },
   "outputs": [
    {
     "data": {
      "text/plain": [
       "True"
      ]
     },
     "execution_count": 27,
     "metadata": {
      "tags": []
     },
     "output_type": "execute_result"
    }
   ],
   "source": [
    "SM = softmax(A)\n",
    "np.allclose(SM.sum(axis=1), 1) and SM.min() >= 0 and SM.max() <= 1"
   ]
  },
  {
   "cell_type": "markdown",
   "metadata": {
    "id": "Flr1lI5o-HpG"
   },
   "source": [
    "## Exercício 7\n",
    "\n",
    "A codificação one-hot é usada para codificar entradas categóricas. É uma codificação onde apenas um bit é 1 e os demais são zero, conforme a tabela a seguir.\n",
    "\n",
    "| Decimal | Binary | One-hot\n",
    "| ------- | ------ | -------\n",
    "| 0 | 000    | 1 0 0 0 0 0 0 0\n",
    "| 1 | 001    | 0 1 0 0 0 0 0 0\n",
    "| 2 | 010    | 0 0 1 0 0 0 0 0\n",
    "| 3 | 011    | 0 0 0 1 0 0 0 0\n",
    "| 4 | 100    | 0 0 0 0 1 0 0 0\n",
    "| 5 | 101    | 0 0 0 0 0 1 0 0\n",
    "| 6 | 110    | 0 0 0 0 0 0 1 0\n",
    "| 7 | 111    | 0 0 0 0 0 0 0 1\n",
    "\n"
   ]
  },
  {
   "cell_type": "markdown",
   "metadata": {
    "id": "1CqXP_5ABbfo"
   },
   "source": [
    "Implemente a função one_hot(y, n_classes) que codifique o vetor de inteiros y que possuem valores entre 0 e n_classes-1.\n"
   ]
  },
  {
   "cell_type": "code",
   "execution_count": 28,
   "metadata": {
    "executionInfo": {
     "elapsed": 313,
     "status": "ok",
     "timestamp": 1621959737894,
     "user": {
      "displayName": "Lucas Pereira",
      "photoUrl": "https://lh3.googleusercontent.com/a-/AOh14GiqlJPZpM7Xb1EwJsInfKE9pE-UlR5kdaE8yArCCw=s64",
      "userId": "06590471946997149737"
     },
     "user_tz": 180
    },
    "id": "la-02w7qCH7L"
   },
   "outputs": [],
   "source": [
    "def one_hot(y, n_classes):\n",
    "    # Escreva seu código aqui.\n",
    "    resp = np.zeros((y.size, n_classes))\n",
    "    resp[np.arange(y.size), y] = 1\n",
    "    return resp"
   ]
  },
  {
   "cell_type": "code",
   "execution_count": 29,
   "metadata": {
    "colab": {
     "base_uri": "https://localhost:8080/"
    },
    "executionInfo": {
     "elapsed": 337,
     "status": "ok",
     "timestamp": 1621959740775,
     "user": {
      "displayName": "Lucas Pereira",
      "photoUrl": "https://lh3.googleusercontent.com/a-/AOh14GiqlJPZpM7Xb1EwJsInfKE9pE-UlR5kdaE8yArCCw=s64",
      "userId": "06590471946997149737"
     },
     "user_tz": 180
    },
    "id": "zf5zyZO5Aiz_",
    "outputId": "54775d24-ed9f-4545-9754-854f4ca857ab"
   },
   "outputs": [
    {
     "name": "stdout",
     "output_type": "stream",
     "text": [
      "[2 4 7 8 4 6 5 5 0 6]\n",
      "[[0. 0. 1. 0. 0. 0. 0. 0. 0.]\n",
      " [0. 0. 0. 0. 1. 0. 0. 0. 0.]\n",
      " [0. 0. 0. 0. 0. 0. 0. 1. 0.]\n",
      " [0. 0. 0. 0. 0. 0. 0. 0. 1.]\n",
      " [0. 0. 0. 0. 1. 0. 0. 0. 0.]\n",
      " [0. 0. 0. 0. 0. 0. 1. 0. 0.]\n",
      " [0. 0. 0. 0. 0. 1. 0. 0. 0.]\n",
      " [0. 0. 0. 0. 0. 1. 0. 0. 0.]\n",
      " [1. 0. 0. 0. 0. 0. 0. 0. 0.]\n",
      " [0. 0. 0. 0. 0. 0. 1. 0. 0.]]\n"
     ]
    }
   ],
   "source": [
    "N_CLASSES = 9\n",
    "N_SAMPLES = 10\n",
    "y = (np.random.rand((N_SAMPLES)) * N_CLASSES).astype(np.int)\n",
    "print(y)\n",
    "print(one_hot(y, N_CLASSES))"
   ]
  },
  {
   "cell_type": "markdown",
   "metadata": {
    "id": "6nwuKnQUCzve"
   },
   "source": [
    "Mostre que sua implementação é eficiente usando uma matriz grande como entrada:"
   ]
  },
  {
   "cell_type": "code",
   "execution_count": 30,
   "metadata": {
    "executionInfo": {
     "elapsed": 316,
     "status": "ok",
     "timestamp": 1621959744662,
     "user": {
      "displayName": "Lucas Pereira",
      "photoUrl": "https://lh3.googleusercontent.com/a-/AOh14GiqlJPZpM7Xb1EwJsInfKE9pE-UlR5kdaE8yArCCw=s64",
      "userId": "06590471946997149737"
     },
     "user_tz": 180
    },
    "id": "uwuFy5rWC2tA"
   },
   "outputs": [],
   "source": [
    "N_SAMPLES = 100_000\n",
    "N_CLASSES = 1_000\n",
    "y = (np.random.rand((N_SAMPLES)) * N_CLASSES).astype(np.int)"
   ]
  },
  {
   "cell_type": "code",
   "execution_count": 31,
   "metadata": {
    "colab": {
     "base_uri": "https://localhost:8080/"
    },
    "executionInfo": {
     "elapsed": 6048,
     "status": "ok",
     "timestamp": 1621959752382,
     "user": {
      "displayName": "Lucas Pereira",
      "photoUrl": "https://lh3.googleusercontent.com/a-/AOh14GiqlJPZpM7Xb1EwJsInfKE9pE-UlR5kdaE8yArCCw=s64",
      "userId": "06590471946997149737"
     },
     "user_tz": 180
    },
    "id": "7azMtF7wDJ2_",
    "outputId": "dc31c514-f26e-419f-970f-1d3b5fae6c7d"
   },
   "outputs": [
    {
     "name": "stdout",
     "output_type": "stream",
     "text": [
      "10 loops, best of 5: 79.2 ms per loop\n"
     ]
    }
   ],
   "source": [
    "%%timeit\n",
    "one_hot(y, N_CLASSES)"
   ]
  },
  {
   "cell_type": "markdown",
   "metadata": {
    "id": "vrGVQFUYI_LP"
   },
   "source": [
    "# Parte 3:\n",
    "\n",
    "##Exercícios Pytorch: Grafo Computacional e Gradientes\n",
    "\n",
    "Nesta parte pode-se usar quaisquer bibliotecas."
   ]
  },
  {
   "cell_type": "markdown",
   "metadata": {
    "id": "BIlQdKAuCZtR"
   },
   "source": [
    "Um dos principais fundamentos para que o PyTorch seja adequado para deep learning é a sua habilidade de calcular o gradiente automaticamente a partir da expressões definidas. Essa facilidade é implementada através do cálculo automático do gradiente e construção dinâmica do grafo computacional."
   ]
  },
  {
   "cell_type": "markdown",
   "metadata": {
    "id": "ZF_-dJ2nCZtT"
   },
   "source": [
    "## Grafo computacional\n",
    "\n",
    "Seja um exemplo simples de uma função de perda J dada pela Soma dos Erros ao Quadrado (SEQ - Sum of Squared Errors): \n",
    "$$ J = \\sum_i (x_i w - y_i)^2 $$\n",
    "que pode ser reescrita como:\n",
    "$$ \\hat{y_i} = x_i w $$\n",
    "$$ e_i = \\hat{y_i} - y_i $$\n",
    "$$ e2_i = e_i^2 $$\n",
    "$$ J = \\sum_i e2_i $$\n",
    "\n",
    "As redes neurais são treinadas através da minimização de uma função de perda usando o método do gradiente descendente. Para ajustar o parâmetro $w$ precisamos calcular o gradiente $  \\frac{ \\partial J}{\\partial w} $. Usando a\n",
    "regra da cadeia podemos escrever:\n",
    "$$ \\frac{ \\partial J}{\\partial w} = \\frac{ \\partial J}{\\partial e2_i} \\frac{ \\partial e2_i}{\\partial e_i} \\frac{ \\partial e_i}{\\partial \\hat{y_i} } \\frac{ \\partial \\hat{y_i}}{\\partial w}$$ "
   ]
  },
  {
   "cell_type": "markdown",
   "metadata": {
    "id": "jboejVQMCZtU"
   },
   "source": [
    "```\n",
    "    y_pred = x * w\n",
    "    e = y_pred - y\n",
    "    e2 = e**2\n",
    "    J = e2.sum()\n",
    "```"
   ]
  },
  {
   "cell_type": "markdown",
   "metadata": {
    "id": "n7JmU6qhc2Y2"
   },
   "source": [
    "As quatro expressões acima, para o cálculo do J podem ser representadas pelo grafo computacional visualizado a seguir: os círculos são as variáveis (tensores), os quadrados são as operações, os números em preto são os cálculos durante a execução das quatro expressões para calcular o J (forward, predict). O cálculo do gradiente, mostrado em vermelho, é calculado pela regra da cadeia, de trás para frente (backward)."
   ]
  },
  {
   "cell_type": "markdown",
   "metadata": {
    "id": "KeeEBKl4CZtV"
   },
   "source": [
    "<img src=\"https://raw.githubusercontent.com/robertoalotufo/files/master/figures/GrafoComputacional.png\" width=\"600pt\"/>"
   ]
  },
  {
   "cell_type": "markdown",
   "metadata": {
    "id": "8yZun7wrCZtX"
   },
   "source": [
    "Para entender melhor o funcionamento do grafo computacional com os tensores, recomenda-se leitura em:\n",
    "\n",
    "https://pytorch.org/docs/stable/notes/autograd.html"
   ]
  },
  {
   "cell_type": "code",
   "execution_count": 32,
   "metadata": {
    "ExecuteTime": {
     "end_time": "2019-12-11T00:23:00.431853Z",
     "start_time": "2019-12-11T00:23:00.414813Z"
    },
    "executionInfo": {
     "elapsed": 3113,
     "status": "ok",
     "timestamp": 1621959764087,
     "user": {
      "displayName": "Lucas Pereira",
      "photoUrl": "https://lh3.googleusercontent.com/a-/AOh14GiqlJPZpM7Xb1EwJsInfKE9pE-UlR5kdaE8yArCCw=s64",
      "userId": "06590471946997149737"
     },
     "user_tz": 180
    },
    "id": "HlT2d-4fCZtZ"
   },
   "outputs": [],
   "source": [
    "import torch"
   ]
  },
  {
   "cell_type": "code",
   "execution_count": 33,
   "metadata": {
    "ExecuteTime": {
     "end_time": "2019-12-11T00:23:00.863228Z",
     "start_time": "2019-12-11T00:23:00.844457Z"
    },
    "colab": {
     "base_uri": "https://localhost:8080/",
     "height": 36
    },
    "executionInfo": {
     "elapsed": 13,
     "status": "ok",
     "timestamp": 1621959765454,
     "user": {
      "displayName": "Lucas Pereira",
      "photoUrl": "https://lh3.googleusercontent.com/a-/AOh14GiqlJPZpM7Xb1EwJsInfKE9pE-UlR5kdaE8yArCCw=s64",
      "userId": "06590471946997149737"
     },
     "user_tz": 180
    },
    "id": "xX0QwUduCZtf",
    "outputId": "27587669-37cf-4680-8e07-a7bc5bf613ff"
   },
   "outputs": [
    {
     "data": {
      "application/vnd.google.colaboratory.intrinsic+json": {
       "type": "string"
      },
      "text/plain": [
       "'1.8.1+cu101'"
      ]
     },
     "execution_count": 33,
     "metadata": {
      "tags": []
     },
     "output_type": "execute_result"
    }
   ],
   "source": [
    "torch.__version__"
   ]
  },
  {
   "cell_type": "markdown",
   "metadata": {
    "id": "vsqzALS4CZtl"
   },
   "source": [
    "## Tensor com atributo .requires_grad=*True*\n",
    "Quando um tensor possui o atributo `requires_grad` como verdadeiro, qualquer expressão que utilizar esse tensor irá construir um grafo computacional para permitir posteriormente, após calcular a função a ser derivada, poder usar a regra da cadeia e calcular o gradiente da função em termos dos tensores que possuem o atributo `requires_grad`.\n"
   ]
  },
  {
   "cell_type": "code",
   "execution_count": 34,
   "metadata": {
    "ExecuteTime": {
     "end_time": "2019-09-29T03:07:22.117010Z",
     "start_time": "2019-09-29T03:07:22.041861Z"
    },
    "colab": {
     "base_uri": "https://localhost:8080/"
    },
    "executionInfo": {
     "elapsed": 366,
     "status": "ok",
     "timestamp": 1621959768994,
     "user": {
      "displayName": "Lucas Pereira",
      "photoUrl": "https://lh3.googleusercontent.com/a-/AOh14GiqlJPZpM7Xb1EwJsInfKE9pE-UlR5kdaE8yArCCw=s64",
      "userId": "06590471946997149737"
     },
     "user_tz": 180
    },
    "id": "foaAb94aCZtm",
    "outputId": "df98276e-8255-44e3-c52a-8b5d82be0266"
   },
   "outputs": [
    {
     "data": {
      "text/plain": [
       "tensor([0., 2., 4., 6.])"
      ]
     },
     "execution_count": 34,
     "metadata": {
      "tags": []
     },
     "output_type": "execute_result"
    }
   ],
   "source": [
    "y = torch.arange(0, 8, 2).float()\n",
    "y"
   ]
  },
  {
   "cell_type": "code",
   "execution_count": 35,
   "metadata": {
    "ExecuteTime": {
     "end_time": "2019-09-29T03:07:28.610934Z",
     "start_time": "2019-09-29T03:07:28.598223Z"
    },
    "colab": {
     "base_uri": "https://localhost:8080/"
    },
    "executionInfo": {
     "elapsed": 506,
     "status": "ok",
     "timestamp": 1621959770989,
     "user": {
      "displayName": "Lucas Pereira",
      "photoUrl": "https://lh3.googleusercontent.com/a-/AOh14GiqlJPZpM7Xb1EwJsInfKE9pE-UlR5kdaE8yArCCw=s64",
      "userId": "06590471946997149737"
     },
     "user_tz": 180
    },
    "id": "no6SdSyICZtr",
    "outputId": "685cc482-2946-4199-f4e0-d55ca587e59a"
   },
   "outputs": [
    {
     "data": {
      "text/plain": [
       "tensor([0., 1., 2., 3.])"
      ]
     },
     "execution_count": 35,
     "metadata": {
      "tags": []
     },
     "output_type": "execute_result"
    }
   ],
   "source": [
    "x = torch.arange(0, 4).float()\n",
    "x"
   ]
  },
  {
   "cell_type": "code",
   "execution_count": 36,
   "metadata": {
    "ExecuteTime": {
     "end_time": "2019-09-29T03:07:31.523762Z",
     "start_time": "2019-09-29T03:07:31.497683Z"
    },
    "colab": {
     "base_uri": "https://localhost:8080/"
    },
    "executionInfo": {
     "elapsed": 11,
     "status": "ok",
     "timestamp": 1621959772713,
     "user": {
      "displayName": "Lucas Pereira",
      "photoUrl": "https://lh3.googleusercontent.com/a-/AOh14GiqlJPZpM7Xb1EwJsInfKE9pE-UlR5kdaE8yArCCw=s64",
      "userId": "06590471946997149737"
     },
     "user_tz": 180
    },
    "id": "eL_i1mwGCZtw",
    "outputId": "2d8ea7ee-4804-40e4-a26f-f4969ef710f7"
   },
   "outputs": [
    {
     "data": {
      "text/plain": [
       "tensor([1.], requires_grad=True)"
      ]
     },
     "execution_count": 36,
     "metadata": {
      "tags": []
     },
     "output_type": "execute_result"
    }
   ],
   "source": [
    "w = torch.ones(1, requires_grad=True)\n",
    "w"
   ]
  },
  {
   "cell_type": "markdown",
   "metadata": {
    "id": "qjEl-0l7CZt0"
   },
   "source": [
    "## Cálculo automático do gradiente da função perda J"
   ]
  },
  {
   "cell_type": "markdown",
   "metadata": {
    "id": "8pUh-SCnCZt1"
   },
   "source": [
    "Seja a expressão: $$ J = \\sum_i ((x_i  w) - y_i)^2 $$\n",
    "\n",
    "Queremos calcular a derivada de $J$ em relação a $w$."
   ]
  },
  {
   "cell_type": "markdown",
   "metadata": {
    "id": "eMwwVtJ1CZt2"
   },
   "source": [
    "### Montagem do grafo computacional - forward\n",
    "\n",
    "Durante a execução da expressão, o grafo computacional é criado. Compare os valores de cada parcela calculada com os valores em preto da figura ilustrativa do grafo computacional."
   ]
  },
  {
   "cell_type": "code",
   "execution_count": 37,
   "metadata": {
    "ExecuteTime": {
     "end_time": "2019-09-29T03:07:36.290122Z",
     "start_time": "2019-09-29T03:07:36.273229Z"
    },
    "colab": {
     "base_uri": "https://localhost:8080/"
    },
    "executionInfo": {
     "elapsed": 416,
     "status": "ok",
     "timestamp": 1621959781891,
     "user": {
      "displayName": "Lucas Pereira",
      "photoUrl": "https://lh3.googleusercontent.com/a-/AOh14GiqlJPZpM7Xb1EwJsInfKE9pE-UlR5kdaE8yArCCw=s64",
      "userId": "06590471946997149737"
     },
     "user_tz": 180
    },
    "id": "zp2aK4YhCZt3",
    "outputId": "707286fb-cb20-43f2-a52c-309a0b6d306b"
   },
   "outputs": [
    {
     "name": "stdout",
     "output_type": "stream",
     "text": [
      "y_pred = tensor([0., 1., 2., 3.], grad_fn=<MulBackward0>)\n",
      "e = tensor([ 0., -1., -2., -3.], grad_fn=<SubBackward0>)\n",
      "e2 = tensor([0., 1., 4., 9.], grad_fn=<PowBackward0>)\n",
      "J = tensor(14., grad_fn=<SumBackward0>)\n"
     ]
    }
   ],
   "source": [
    "# predict (forward)\n",
    "y_pred = x * w; print('y_pred =', y_pred)\n",
    "\n",
    "# cálculo da perda J: loss\n",
    "e = y_pred - y; print('e =',e)\n",
    "e2 = e.pow(2) ; print('e2 =', e2)\n",
    "J = e2.sum()  ; print('J =', J)"
   ]
  },
  {
   "cell_type": "markdown",
   "metadata": {
    "id": "XC96wB7PCZt8"
   },
   "source": [
    "## Auto grad - processa o grafo computacional backward"
   ]
  },
  {
   "cell_type": "markdown",
   "metadata": {
    "ExecuteTime": {
     "end_time": "2017-10-04T15:55:45.308858",
     "start_time": "2017-10-04T15:55:45.304654"
    },
    "id": "kKbf4D0CCZt-"
   },
   "source": [
    "O `backward()` varre o grafo computacional a partir da variável a ele associada (raiz) e calcula o gradiente para todos os tensores que possuem o atributo `requires_grad` como verdadeiro.\n",
    "Observe que os tensores que tiverem o atributo `requires_grad` serão sempre folhas no grafo computacional.\n",
    "O `backward()` destroi o grafo após sua execução. Esse comportamento é padrão no PyTorch. \n",
    "\n",
    "A título ilustrativo, se quisermos depurar os gradientes dos nós que não são folhas no grafo computacional, precisamos primeiro invocar `retain_grad()` em cada um desses nós, como a seguir. Entretanto nos exemplos reais não há necessidade de verificar o gradiente desses nós."
   ]
  },
  {
   "cell_type": "code",
   "execution_count": 38,
   "metadata": {
    "executionInfo": {
     "elapsed": 331,
     "status": "ok",
     "timestamp": 1621959784828,
     "user": {
      "displayName": "Lucas Pereira",
      "photoUrl": "https://lh3.googleusercontent.com/a-/AOh14GiqlJPZpM7Xb1EwJsInfKE9pE-UlR5kdaE8yArCCw=s64",
      "userId": "06590471946997149737"
     },
     "user_tz": 180
    },
    "id": "f-CjLPu6clVo"
   },
   "outputs": [],
   "source": [
    "e2.retain_grad()\n",
    "e.retain_grad()\n",
    "y_pred.retain_grad()"
   ]
  },
  {
   "cell_type": "markdown",
   "metadata": {
    "id": "WtsZS2Bicof-"
   },
   "source": [
    "E agora calculamos os gradientes com o `backward()`.\n",
    "\n",
    "w.grad é o gradiente de J em relação a w."
   ]
  },
  {
   "cell_type": "code",
   "execution_count": 39,
   "metadata": {
    "ExecuteTime": {
     "end_time": "2019-09-29T03:07:40.267334Z",
     "start_time": "2019-09-29T03:07:40.247422Z"
    },
    "colab": {
     "base_uri": "https://localhost:8080/"
    },
    "executionInfo": {
     "elapsed": 336,
     "status": "ok",
     "timestamp": 1621959788867,
     "user": {
      "displayName": "Lucas Pereira",
      "photoUrl": "https://lh3.googleusercontent.com/a-/AOh14GiqlJPZpM7Xb1EwJsInfKE9pE-UlR5kdaE8yArCCw=s64",
      "userId": "06590471946997149737"
     },
     "user_tz": 180
    },
    "id": "Z1lnkb0GCZt_",
    "outputId": "253455be-5135-481e-ac3d-d320b8d9dc7e"
   },
   "outputs": [
    {
     "name": "stdout",
     "output_type": "stream",
     "text": [
      "tensor([-28.])\n"
     ]
    }
   ],
   "source": [
    "if w.grad: w.grad.zero_()\n",
    "J.backward()\n",
    "print(w.grad)"
   ]
  },
  {
   "cell_type": "markdown",
   "metadata": {
    "id": "N1xYDPR_uOcZ"
   },
   "source": [
    "Mostramos agora os gradientes que estão grafados em vermelho no grafo computacional:"
   ]
  },
  {
   "cell_type": "code",
   "execution_count": 40,
   "metadata": {
    "colab": {
     "base_uri": "https://localhost:8080/"
    },
    "executionInfo": {
     "elapsed": 11,
     "status": "ok",
     "timestamp": 1621959790176,
     "user": {
      "displayName": "Lucas Pereira",
      "photoUrl": "https://lh3.googleusercontent.com/a-/AOh14GiqlJPZpM7Xb1EwJsInfKE9pE-UlR5kdaE8yArCCw=s64",
      "userId": "06590471946997149737"
     },
     "user_tz": 180
    },
    "id": "Enuk2tf0sDyO",
    "outputId": "aebcba71-cde4-418f-ffdd-44021fda6831"
   },
   "outputs": [
    {
     "name": "stdout",
     "output_type": "stream",
     "text": [
      "tensor([1., 1., 1., 1.])\n",
      "tensor([ 0., -2., -4., -6.])\n",
      "tensor([ 0., -2., -4., -6.])\n"
     ]
    }
   ],
   "source": [
    "print(e2.grad)\n",
    "print(e.grad)\n",
    "print(y_pred.grad)"
   ]
  },
  {
   "cell_type": "markdown",
   "metadata": {
    "id": "LsOThnt8fDJV"
   },
   "source": [
    "##Exercício 1\n",
    "Calcule o mesmo gradiente ilustrado no exemplo anterior usando a regra das diferenças finitas, de acordo com a equação a seguir, utilizando um valor de $\\Delta w$ bem pequeno.\n",
    "\n",
    "$$ \\frac{\\partial J}{\\partial w} = \\frac{J(w + \\Delta w) - J(w - \\Delta w)}{2 \\Delta w} $$"
   ]
  },
  {
   "cell_type": "code",
   "execution_count": 41,
   "metadata": {
    "colab": {
     "base_uri": "https://localhost:8080/"
    },
    "executionInfo": {
     "elapsed": 357,
     "status": "ok",
     "timestamp": 1621959813693,
     "user": {
      "displayName": "Lucas Pereira",
      "photoUrl": "https://lh3.googleusercontent.com/a-/AOh14GiqlJPZpM7Xb1EwJsInfKE9pE-UlR5kdaE8yArCCw=s64",
      "userId": "06590471946997149737"
     },
     "user_tz": 180
    },
    "hidden": true,
    "id": "62nZAfUoCZu5",
    "outputId": "91a9a314-acda-4d84-a3c3-36de6200173a"
   },
   "outputs": [
    {
     "name": "stdout",
     "output_type": "stream",
     "text": [
      "grad= tensor(-28.0000)\n"
     ]
    }
   ],
   "source": [
    "def J_func(w, x, y):\n",
    "    # programe a função J_func, para facilitar\n",
    "    return (((x * w) - y)**2).sum()\n",
    "\n",
    "# Calcule o gradiente usando a regra diferenças finitas\n",
    "# Confira com o valor já calculado anteriormente\n",
    "x = torch.arange(0, 4).float()\n",
    "y = torch.arange(0, 8, 2).float()\n",
    "w = torch.ones(1)\n",
    "grad = (J_func((w + 1e-2), x, y) - J_func((w - 1e-2), x, y)) / (2 * 1e-2)\n",
    "print('grad=', grad)"
   ]
  },
  {
   "cell_type": "markdown",
   "metadata": {
    "id": "O_Sx1QXZxJ3u"
   },
   "source": [
    "##Exercício 2\n",
    "\n",
    "Minimizando $J$ pelo gradiente descendente\n",
    "\n",
    "$$ w_{k+1} = w_k - \\lambda \\frac {\\partial J}{\\partial w} $$\n",
    "\n",
    "Supondo que valor inicial ($k=0$) $w_0 = 1$, use learning rate $\\lambda = 0.01$ para calcular o valor do novo $w_{20}$, ou seja, fazendo 20 atualizações de gradientes. Deve-se usar a função `J_func` criada no exercício anterior.\n",
    "\n",
    "Confira se o valor do primeiro gradiente está de acordo com os valores já calculado acima"
   ]
  },
  {
   "cell_type": "code",
   "execution_count": 43,
   "metadata": {
    "colab": {
     "base_uri": "https://localhost:8080/",
     "height": 1000
    },
    "executionInfo": {
     "elapsed": 1132,
     "status": "ok",
     "timestamp": 1621959895033,
     "user": {
      "displayName": "Lucas Pereira",
      "photoUrl": "https://lh3.googleusercontent.com/a-/AOh14GiqlJPZpM7Xb1EwJsInfKE9pE-UlR5kdaE8yArCCw=s64",
      "userId": "06590471946997149737"
     },
     "user_tz": 180
    },
    "id": "PNszCOED1Wtu",
    "outputId": "bf62007b-b96b-4b8e-ad91-7bd84c65eb72"
   },
   "outputs": [
    {
     "name": "stdout",
     "output_type": "stream",
     "text": [
      "i = 0\n",
      "J= tensor(14.)\n",
      "grad = tensor(-27.9999)\n",
      "w = tensor([0.7200])\n",
      "i = 1\n",
      "J= tensor(22.9376)\n",
      "grad = tensor(-35.8295)\n",
      "w = tensor([0.3617])\n",
      "i = 2\n",
      "J= tensor(37.5761)\n",
      "grad = tensor(-45.8527)\n",
      "w = tensor([-0.0968])\n",
      "i = 3\n",
      "J= tensor(61.5532)\n",
      "grad = tensor(-58.6700)\n",
      "w = tensor([-0.6835])\n",
      "i = 4\n",
      "J= tensor(100.8180)\n",
      "grad = tensor(-75.0732)\n",
      "w = tensor([-1.4343])\n",
      "i = 5\n",
      "J= tensor(165.1174)\n",
      "grad = tensor(-96.0541)\n",
      "w = tensor([-2.3948])\n",
      "i = 6\n",
      "J= tensor(270.3990)\n",
      "grad = tensor(-122.9858)\n",
      "w = tensor([-3.6247])\n",
      "i = 7\n",
      "J= tensor(442.9141)\n",
      "grad = tensor(-157.4707)\n",
      "w = tensor([-5.1994])\n",
      "i = 8\n",
      "J= tensor(725.6310)\n",
      "grad = tensor(-202.3315)\n",
      "w = tensor([-7.2227])\n",
      "i = 9\n",
      "J= tensor(1190.8083)\n",
      "grad = tensor(-258.7891)\n",
      "w = tensor([-9.8106])\n",
      "i = 10\n",
      "J= tensor(1952.8525)\n",
      "grad = tensor(-331.4209)\n",
      "w = tensor([-13.1248])\n",
      "i = 11\n",
      "J= tensor(3202.6235)\n",
      "grad = tensor(-424.8047)\n",
      "w = tensor([-17.3728])\n",
      "i = 12\n",
      "J= tensor(5254.2871)\n",
      "grad = tensor(-537.1094)\n",
      "w = tensor([-22.7439])\n",
      "i = 13\n",
      "J= tensor(8571.6592)\n",
      "grad = tensor(-683.5938)\n",
      "w = tensor([-29.5799])\n",
      "i = 14\n",
      "J= tensor(13962.0205)\n",
      "grad = tensor(-874.0234)\n",
      "w = tensor([-38.3201])\n",
      "i = 15\n",
      "J= tensor(22759.9336)\n",
      "grad = tensor(-1113.2812)\n",
      "w = tensor([-49.4529])\n",
      "i = 16\n",
      "J= tensor(37063.6133)\n",
      "grad = tensor(-1425.7812)\n",
      "w = tensor([-63.7107])\n",
      "i = 17\n",
      "J= tensor(60450.5703)\n",
      "grad = tensor(-1816.4062)\n",
      "w = tensor([-81.8748])\n",
      "i = 18\n",
      "J= tensor(98489.6875)\n",
      "grad = tensor(-2265.6250)\n",
      "w = tensor([-104.5310])\n",
      "i = 19\n",
      "J= tensor(158884.0312)\n",
      "grad = tensor(-2968.7500)\n",
      "w = tensor([-134.2185])\n"
     ]
    },
    {
     "data": {
      "image/png": "[encoded data removed]",
      "text/plain": [
       "<Figure size 720x360 with 1 Axes>"
      ]
     },
     "metadata": {
      "needs_background": "light",
      "tags": []
     },
     "output_type": "display_data"
    }
   ],
   "source": [
    "import matplotlib.pyplot as plt\n",
    "#%matplotlib inline\n",
    "\n",
    "learning_rate = 0.01\n",
    "iteracoes = 20\n",
    "\n",
    "x = torch.arange(0, 4).float()\n",
    "y = torch.arange(0, 8, 2).float()\n",
    "w = torch.ones(1) #w = torch.ones(4).float()\n",
    "\n",
    "lossJ = []\n",
    "for i in range(iteracoes):\n",
    "    print('i =', i)\n",
    "    J = J_func(w, x, y)\n",
    "    print('J=', J)\n",
    "    grad = (J_func((w + 1e-4), x, y) - J_func((w - 1e-4), x, y)) / (2 * 1e-4)\n",
    "    lossJ.append(grad) #lossJ.append(float(grad))\n",
    "    print('grad =',grad)\n",
    "    w += (learning_rate * grad) #w += (learning_rate * grad * x)\n",
    "    print('w =', w)\n",
    "\n",
    "# Plote o gráfico da loss J pela iteração i\n",
    "plt.figure(figsize=(10,5))\n",
    "plt.plot(range(1, (iteracoes + 1)), lossJ, '-bo')\n",
    "plt.xlabel('Number of Iterations ', fontsize = 15)\n",
    "plt.ylabel('Accuracy', fontsize = 15)\n",
    "plt.show()"
   ]
  },
  {
   "cell_type": "markdown",
   "metadata": {
    "id": "JBXxBmWGK3IU"
   },
   "source": [
    "##Exercício 3\n",
    "\n",
    "Repita o exercício 2 mas usando agora o calculando o gradiente usando o método backward() do pytorch. Confira se o primeiro valor do gradiente está de acordo com os valores anteriores. Execute essa próxima célula duas vezes. Os valores devem ser iguais.\n"
   ]
  },
  {
   "cell_type": "code",
   "execution_count": 44,
   "metadata": {
    "colab": {
     "base_uri": "https://localhost:8080/",
     "height": 1000
    },
    "executionInfo": {
     "elapsed": 532,
     "status": "ok",
     "timestamp": 1621959950032,
     "user": {
      "displayName": "Lucas Pereira",
      "photoUrl": "https://lh3.googleusercontent.com/a-/AOh14GiqlJPZpM7Xb1EwJsInfKE9pE-UlR5kdaE8yArCCw=s64",
      "userId": "06590471946997149737"
     },
     "user_tz": 180
    },
    "id": "lMP4d5vtHtqy",
    "outputId": "32d83da4-6308-41d5-970d-097b6bbbcdec"
   },
   "outputs": [
    {
     "name": "stdout",
     "output_type": "stream",
     "text": [
      "i = 0\n",
      "J= tensor(14., grad_fn=<SumBackward0>)\n",
      "grad = tensor([-28.])\n",
      "w = tensor([0.7200], requires_grad=True)\n",
      "i = 1\n",
      "J= tensor(22.9376, grad_fn=<SumBackward0>)\n",
      "grad = tensor([-63.8400])\n",
      "w = tensor([0.0816], requires_grad=True)\n",
      "i = 2\n",
      "J= tensor(51.5236, grad_fn=<SumBackward0>)\n",
      "grad = tensor([-117.5552])\n",
      "w = tensor([-1.0940], requires_grad=True)\n",
      "i = 3\n",
      "J= tensor(134.0155, grad_fn=<SumBackward0>)\n",
      "grad = tensor([-204.1859])\n",
      "w = tensor([-3.1358], requires_grad=True)\n",
      "i = 4\n",
      "J= tensor(369.2717, grad_fn=<SumBackward0>)\n",
      "grad = tensor([-347.9885])\n",
      "w = tensor([-6.6157], requires_grad=True)\n",
      "i = 5\n",
      "J= tensor(1039.2229, grad_fn=<SumBackward0>)\n",
      "grad = tensor([-589.2280])\n",
      "w = tensor([-12.5080], requires_grad=True)\n",
      "i = 6\n",
      "J= tensor(2946.7388, grad_fn=<SumBackward0>)\n",
      "grad = tensor([-995.4514])\n",
      "w = tensor([-22.4625], requires_grad=True)\n",
      "i = 7\n",
      "J= tensor(8377.7871, grad_fn=<SumBackward0>)\n",
      "grad = tensor([-1680.4011])\n",
      "w = tensor([-39.2665], requires_grad=True)\n",
      "i = 8\n",
      "J= tensor(23840.9395, grad_fn=<SumBackward0>)\n",
      "grad = tensor([-2835.8633])\n",
      "w = tensor([-67.6251], requires_grad=True)\n",
      "i = 9\n",
      "J= tensor(67867.2344, grad_fn=<SumBackward0>)\n",
      "grad = tensor([-4785.3672])\n",
      "w = tensor([-115.4788], requires_grad=True)\n",
      "i = 10\n",
      "J= tensor(193217.7500, grad_fn=<SumBackward0>)\n",
      "grad = tensor([-8074.7734])\n",
      "w = tensor([-196.2265], requires_grad=True)\n",
      "i = 11\n",
      "J= tensor(550112.5625, grad_fn=<SumBackward0>)\n",
      "grad = tensor([-13625.1162])\n",
      "w = tensor([-332.4777], requires_grad=True)\n",
      "i = 12\n",
      "J= tensor(1566254.6250, grad_fn=<SumBackward0>)\n",
      "grad = tensor([-22990.4922])\n",
      "w = tensor([-562.3826], requires_grad=True)\n",
      "i = 13\n",
      "J= tensor(4459389., grad_fn=<SumBackward0>)\n",
      "grad = tensor([-38793.2070])\n",
      "w = tensor([-950.3147], requires_grad=True)\n",
      "i = 14\n",
      "J= tensor(12696646., grad_fn=<SumBackward0>)\n",
      "grad = tensor([-65458.0156])\n",
      "w = tensor([-1604.8948], requires_grad=True)\n",
      "i = 15\n",
      "J= tensor(36149552., grad_fn=<SumBackward0>)\n",
      "grad = tensor([-110451.0703])\n",
      "w = tensor([-2709.4053], requires_grad=True)\n",
      "i = 16\n",
      "J= tensor(1.0292e+08, grad_fn=<SumBackward0>)\n",
      "grad = tensor([-186370.4219])\n",
      "w = tensor([-4573.1094], requires_grad=True)\n",
      "i = 17\n",
      "J= tensor(2.9304e+08, grad_fn=<SumBackward0>)\n",
      "grad = tensor([-314473.5000])\n",
      "w = tensor([-7717.8442], requires_grad=True)\n",
      "i = 18\n",
      "J= tensor(8.3434e+08, grad_fn=<SumBackward0>)\n",
      "grad = tensor([-530629.1250])\n",
      "w = tensor([-13024.1348], requires_grad=True)\n",
      "i = 19\n",
      "J= tensor(2.3755e+09, grad_fn=<SumBackward0>)\n",
      "grad = tensor([-895360.8750])\n",
      "w = tensor([-21977.7422], requires_grad=True)\n"
     ]
    },
    {
     "data": {
      "image/png": "[encoded data removed]",
      "text/plain": [
       "<Figure size 720x360 with 1 Axes>"
      ]
     },
     "metadata": {
      "needs_background": "light",
      "tags": []
     },
     "output_type": "display_data"
    }
   ],
   "source": [
    "learning_rate = 0.01\n",
    "iteracoes = 20\n",
    "\n",
    "x = torch.arange(0, 4).float()\n",
    "y = torch.arange(0, 8, 2).float()\n",
    "w = torch.ones(1, requires_grad=True)\n",
    "\n",
    "lossJ = []\n",
    "for i in range(iteracoes):\n",
    "    print('i =', i)\n",
    "    J = J_func(w, x, y)\n",
    "    print('J=', J)\n",
    "    J.backward()\n",
    "    grad = w.grad.clone()\n",
    "    lossJ.append(grad)\n",
    "    print('grad =',grad)\n",
    "    w.data += (learning_rate * grad)\n",
    "    print('w =', w)\n",
    "\n",
    "# Plote aqui a loss pela iteração\n",
    "plt.figure(figsize=(10,5))\n",
    "plt.plot(range(1, (iteracoes + 1)), lossJ, '-bo')\n",
    "plt.xlabel('Number of Iterations ', fontsize = 15)\n",
    "plt.ylabel('Accuracy', fontsize = 15)\n",
    "plt.show()"
   ]
  },
  {
   "cell_type": "markdown",
   "metadata": {
    "id": "GulfYtzBMx2e"
   },
   "source": [
    "##Exercício 4\n",
    "\n",
    "Quais são as restrições na escolha dos valores de $\\Delta w$ no cálculo do gradiente por diferenças finitas?"
   ]
  },
  {
   "cell_type": "markdown",
   "metadata": {
    "id": "TXQGEyvtiTAR"
   },
   "source": [
    "Resposta:\n",
    "\n",
    "A função $J$ é continua em todo domínio real ($\\mathbb{R}$). Entretanto, observe que a proximação da derivada de $J$ com relação a $W$, $\\frac{\\partial J}{\\partial w}$, dado pelo método de diferenças finitas, têm como denominador $2\\Delta w$. Como a divisão por zero é *indefinida*, $\\Delta w$ deve ser diferente de zero ($\\Delta w\\neq 0$)"
   ]
  },
  {
   "cell_type": "markdown",
   "metadata": {
    "id": "WsrSF8GEiXk4"
   },
   "source": [
    "##Exercício 5\n",
    "\n",
    "Até agora trabalhamos com $w$ contendo apenas um parâmetro. Suponha agora que $w$ seja uma matriz com $N$ parâmetros e que o custo para executar $(x_i w - y_i)^2$ seja $O(N)$.\n",
    "> a) Qual é o custo computacional para fazer uma única atualização (um passo de gradiente) dos parâmetros de $w$ usando o método das diferencas finitas?\n",
    ">\n",
    "> b) Qual é o custo computacional para fazer uma única atualização (um passo de gradiente) dos parâmetros de $w$ usando o método do backpropagation?\n",
    "\n"
   ]
  },
  {
   "cell_type": "markdown",
   "metadata": {
    "id": "_4Pna3bcicHj"
   },
   "source": [
    "Resposta (justifique):\n",
    "\n",
    "a) Como o custo da função $J$ é $O(N)$, o custo computacional de calcular $\\frac{\\partial J}{\\partial w}$, pelo método de diferenças finitas, é da mesma ordem de grandeza, pois a aproxímação de $\\frac{\\partial J}{\\partial w}$ é dependente da função $J$. Isto é, o custo da apróximaçao é: $O(N) + O(N) = 2*O(N)$ que pode ser aproximada por $O(N)$.\n",
    "\n",
    "b) Note que a rede neural utilizada contém apenas um único neurônio (um Perceptron) que não possuí função de ativação. Deseja-se obter o custo de apenas uma única iteração. Portanto, o custo do *backpropagation* é o custo de aplicar o calculo da derivada da função $J$. $\\frac{\\partial J}{\\partial w} = 2x_{i}(wx_i - y)$. Como $W$ é uma matriz com $N$ parâmetros, o custo de calcular $\\frac{\\partial J}{\\partial w}$ é $O(N)$."
   ]
  },
  {
   "cell_type": "markdown",
   "metadata": {
    "id": "35I5w8EZdjIo"
   },
   "source": [
    "##Exercício 6\n",
    "\n",
    "Qual o custo (entropia cruzada) esperado para um exemplo (uma amostra) no começo do treinamento de um classificador inicializado aleatoriamente?\n",
    "\n",
    "A equação da entropia cruzada é:\n",
    "$$L = - \\sum_{j=0}^{K-1} y_j \\log p_j, $$\n",
    "Onde:\n",
    "\n",
    "- K é o número de classes;\n",
    "\n",
    "- $y_j=1$ se $j$ é a classe do exemplo (ground-truth), 0 caso contrário. Ou seja, $y$ é um vetor one-hot;\n",
    "\n",
    "- $p_j$ é a probabilidade predita pelo modelo para a classe $j$.\n",
    "\n",
    "A resposta tem que ser em função de uma ou mais das seguintes variáveis:\n",
    "\n",
    "- K = número de classes\n",
    "\n",
    "- B = batch size\n",
    "\n",
    "- D = dimensão de qualquer vetor do modelo\n",
    "\n",
    "- LR = learning rate"
   ]
  },
  {
   "cell_type": "markdown",
   "metadata": {
    "id": "swTOphiVs6eN"
   },
   "source": [
    "Resposta:\n",
    "\n",
    "O exercício pede o custo do calculo de um exemplo. Note que apenas um exemplo requer a $K$ somas de $y_j * \\log p_j$. Portato o custo computaconal de $L$ para um únicp exemplo é $O(k)$"
   ]
  },
  {
   "cell_type": "markdown",
   "metadata": {
    "id": "3UNdHqgSB6S9"
   },
   "source": [
    "## Fim do notebook"
   ]
  }
 ],
 "metadata": {
  "colab": {
   "collapsed_sections": [],
   "name": "Exercicios - 20210207 _ Lucas-Victor-Silva-Pereira",
   "provenance": [
    {
     "file_id": "1buglNNdywKy28QEJTC9uByjDIghz0NZ1",
     "timestamp": 1621959185766
    },
    {
     "file_id": "1vXCucs-Q9Zo1carb11EphxGOCy0CXSEy",
     "timestamp": 1612796012097
    },
    {
     "file_id": "19LKlqlAGHoAH6nbJMJYjktKfJ3N8TNWJ",
     "timestamp": 1597920482189
    },
    {
     "file_id": "https://github.com/robertoalotufo/rnap/blob/master/PyTorch/Exercicio_PyTorch_Autograd.ipynb",
     "timestamp": 1597583489962
    },
    {
     "file_id": "1Je2YaswTBaOSgtJd___RXdEyT0JBveF4",
     "timestamp": 1576025052940
    }
   ]
  },
  "kernelspec": {
   "display_name": "Python 3",
   "language": "python",
   "name": "python3"
  },
  "language_info": {
   "codemirror_mode": {
    "name": "ipython",
    "version": 3
   },
   "file_extension": ".py",
   "mimetype": "text/x-python",
   "name": "python",
   "nbconvert_exporter": "python",
   "pygments_lexer": "ipython3",
   "version": "3.8.8rc1"
  },
  "toc": {
   "base_numbering": 1,
   "nav_menu": {
    "height": "117px",
    "width": "252px"
   },
   "number_sections": true,
   "sideBar": true,
   "skip_h1_title": false,
   "title_cell": "Table of Contents",
   "title_sidebar": "Contents",
   "toc_cell": false,
   "toc_position": {},
   "toc_section_display": "block",
   "toc_window_display": false
  },
  "varInspector": {
   "cols": {
    "lenName": 16,
    "lenType": 16,
    "lenVar": 40
   },
   "kernels_config": {
    "python": {
     "delete_cmd_postfix": "",
     "delete_cmd_prefix": "del ",
     "library": "var_list.py",
     "varRefreshCmd": "print(var_dic_list())"
    },
    "r": {
     "delete_cmd_postfix": ") ",
     "delete_cmd_prefix": "rm(",
     "library": "var_list.r",
     "varRefreshCmd": "cat(var_dic_list()) "
    }
   },
   "types_to_exclude": [
    "module",
    "function",
    "builtin_function_or_method",
    "instance",
    "_Feature"
   ],
   "window_display": false
  }
 },
 "nbformat": 4,
 "nbformat_minor": 1
}
